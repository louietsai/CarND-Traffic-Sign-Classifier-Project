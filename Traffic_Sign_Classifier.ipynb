{
 "cells": [
  {
   "cell_type": "markdown",
   "metadata": {},
   "source": [
    "# Self-Driving Car Engineer Nanodegree\n",
    "\n",
    "## Deep Learning\n",
    "\n",
    "## Project: Build a Traffic Sign Recognition Classifier\n",
    "\n",
    "\n",
    "\n"
   ]
  },
  {
   "cell_type": "markdown",
   "metadata": {},
   "source": [
    "---\n",
    "## Step 0: Load The Data"
   ]
  },
  {
   "cell_type": "code",
   "execution_count": 1,
   "metadata": {
    "collapsed": true
   },
   "outputs": [],
   "source": [
    "# Load pickled data\n",
    "import pickle\n",
    "\n",
    "# TODO: Fill this in based on where you saved the training and testing data\n",
    "\n",
    "training_file = \"traffic-signs-data/train.p\"\n",
    "validation_file=\"traffic-signs-data/valid.p\"\n",
    "testing_file = \"traffic-signs-data/test.p\"\n",
    "\n",
    "with open(training_file, mode='rb') as f:\n",
    "    train = pickle.load(f)\n",
    "with open(validation_file, mode='rb') as f:\n",
    "    valid = pickle.load(f)\n",
    "with open(testing_file, mode='rb') as f:\n",
    "    test = pickle.load(f)\n",
    "    \n",
    "#X_train, y_train = train['features'], train['labels']\n",
    "X_train_raw, y_train_raw = train['features'], train['labels']\n",
    "X_valid, y_valid = valid['features'], valid['labels']\n",
    "X_test, y_test = test['features'], test['labels']"
   ]
  },
  {
   "cell_type": "markdown",
   "metadata": {},
   "source": [
    "---\n",
    "\n",
    "## Step 1: Dataset Summary & Exploration\n",
    "\n",
    "The pickled data is a dictionary with 4 key/value pairs:\n",
    "\n",
    "- `'features'` is a 4D array containing raw pixel data of the traffic sign images, (num examples, width, height, channels).\n",
    "- `'labels'` is a 1D array containing the label/class id of the traffic sign. The file `signnames.csv` contains id -> name mappings for each id.\n",
    "- `'sizes'` is a list containing tuples, (width, height) representing the original width and height the image.\n",
    "- `'coords'` is a list containing tuples, (x1, y1, x2, y2) representing coordinates of a bounding box around the sign in the image. **THESE COORDINATES ASSUME THE ORIGINAL IMAGE. THE PICKLED DATA CONTAINS RESIZED VERSIONS (32 by 32) OF THESE IMAGES**\n",
    "\n"
   ]
  },
  {
   "cell_type": "markdown",
   "metadata": {},
   "source": [
    "### Provide a Basic Summary of the Data Set Using Python, Numpy and/or Pandas\n",
    "check signnames.csv for the number of classes and hard code below"
   ]
  },
  {
   "cell_type": "code",
   "execution_count": 2,
   "metadata": {},
   "outputs": [
    {
     "name": "stdout",
     "output_type": "stream",
     "text": [
      "Number of training examples = 34799\n",
      "Number of validation examples = 4410\n",
      "Number of testing examples = 12630\n",
      "Image data shape = (32, 32, 3)\n",
      "Number of classes = 43\n"
     ]
    }
   ],
   "source": [
    "### Replace each question mark with the appropriate value. \n",
    "### Use python, pandas or numpy methods rather than hard coding the results\n",
    "\n",
    "# TODO: Number of training examples\n",
    "n_train = len(X_train_raw)\n",
    "\n",
    "# TODO: Number of validation examples\n",
    "n_validation = len(X_valid)\n",
    "\n",
    "# TODO: Number of testing examples.\n",
    "n_test = len(X_test)\n",
    "\n",
    "# TODO: What's the shape of an traffic sign image?\n",
    "image_shape = format(X_train_raw[0].shape)\n",
    "\n",
    "# TODO: How many unique classes/labels there are in the dataset.\n",
    "n_classes = 43 #len(train['labels'])\n",
    "\n",
    "print(\"Number of training examples =\", n_train)\n",
    "print(\"Number of validation examples =\", n_validation)\n",
    "print(\"Number of testing examples =\", n_test)\n",
    "print(\"Image data shape =\", image_shape)\n",
    "print(\"Number of classes =\", n_classes)"
   ]
  },
  {
   "cell_type": "markdown",
   "metadata": {},
   "source": [
    "### Include an exploratory visualization of the dataset"
   ]
  },
  {
   "cell_type": "markdown",
   "metadata": {},
   "source": [
    "count the number of train images by the 43 different labels, and show a diagram for the distribution.\n",
    "it seems that train images are not in well-balanced distribution. \n",
    "we will try on some augmentations like flip to add more sample data in next step"
   ]
  },
  {
   "cell_type": "code",
   "execution_count": 3,
   "metadata": {},
   "outputs": [
    {
     "name": "stdout",
     "output_type": "stream",
     "text": [
      "count[ 0 ] = 180\n",
      "count[ 1 ] = 1980\n",
      "count[ 2 ] = 2010\n",
      "count[ 3 ] = 1260\n",
      "count[ 4 ] = 1770\n",
      "count[ 5 ] = 1650\n",
      "count[ 6 ] = 360\n",
      "count[ 7 ] = 1290\n",
      "count[ 8 ] = 1260\n",
      "count[ 9 ] = 1320\n",
      "count[ 10 ] = 1800\n",
      "count[ 11 ] = 1170\n",
      "count[ 12 ] = 1890\n",
      "count[ 13 ] = 1920\n",
      "count[ 14 ] = 690\n",
      "count[ 15 ] = 540\n",
      "count[ 16 ] = 360\n",
      "count[ 17 ] = 990\n",
      "count[ 18 ] = 1080\n",
      "count[ 19 ] = 180\n",
      "count[ 20 ] = 300\n",
      "count[ 21 ] = 270\n",
      "count[ 22 ] = 330\n",
      "count[ 23 ] = 450\n",
      "count[ 24 ] = 240\n",
      "count[ 25 ] = 1350\n",
      "count[ 26 ] = 540\n",
      "count[ 27 ] = 210\n",
      "count[ 28 ] = 480\n",
      "count[ 29 ] = 240\n",
      "count[ 30 ] = 390\n",
      "count[ 31 ] = 690\n",
      "count[ 32 ] = 210\n",
      "count[ 33 ] = 599\n",
      "count[ 34 ] = 360\n",
      "count[ 35 ] = 1080\n",
      "count[ 36 ] = 330\n",
      "count[ 37 ] = 180\n",
      "count[ 38 ] = 1860\n",
      "count[ 39 ] = 270\n",
      "count[ 40 ] = 300\n",
      "count[ 41 ] = 210\n",
      "count[ 42 ] = 210\n"
     ]
    },
    {
     "data": {
      "image/png": "[encoded data removed]",
      "text/plain": [
       "<matplotlib.figure.Figure at 0x7fd8540b8dd8>"
      ]
     },
     "metadata": {},
     "output_type": "display_data"
    }
   ],
   "source": [
    "### Data exploration visualization code goes here.\n",
    "### Feel free to use as many code cells as needed.\n",
    "import random\n",
    "import numpy as np\n",
    "import matplotlib.pyplot as plt\n",
    "# Visualizations will be shown in the notebook.\n",
    "from numpy import ndarray\n",
    "%matplotlib inline\n",
    "count = ndarray((n_classes,),int)\n",
    "for i in range(n_classes):\n",
    "    count[i] = 0\n",
    "\n",
    "for index in range(n_train):\n",
    "    #print(\"index:\",index,\" label:\",y_train_raw[index])\n",
    "    count[y_train_raw[index]]+=1\n",
    "for index in range(n_classes):\n",
    "    print(\"count[\",index,\"]\",\"=\",count[index])\n",
    "\n",
    "\n",
    "fig, ax = plt.subplots()\n",
    "\n",
    "bins = ndarray((n_classes,),int)\n",
    "for i in range(n_classes):\n",
    "    bins[i] = i\n",
    "\n",
    "ax.plot(bins, count, '-')\n",
    "ax.set_xlabel('label')\n",
    "ax.set_ylabel('number')\n",
    "ax.set_title(r'label number distribution')\n",
    "\n",
    "# Tweak spacing to prevent clipping of ylabel\n",
    "fig.tight_layout()\n",
    "plt.show()\n",
    "    \n",
    "#image = X_train_raw[index].squeeze()\n",
    "#plt.figure(figsize=(1,1))\n",
    "#plt.imshow(image)\n",
    "#print(y_train_raw[index])"
   ]
  },
  {
   "cell_type": "markdown",
   "metadata": {},
   "source": [
    "### Pre-process the Data Set (normalization, grayscale, etc.)"
   ]
  },
  {
   "cell_type": "markdown",
   "metadata": {},
   "source": [
    "----\n",
    "\n",
    "## Step 2: Design and Test a Model Architecture\n",
    "\n",
    "Design and implement a deep learning model that learns to recognize traffic signs. Train and test your model on the [German Traffic Sign Dataset](http://benchmark.ini.rub.de/?section=gtsrb&subsection=dataset).\n",
    "\n",
    "The LeNet-5 implementation shown in the [classroom](https://classroom.udacity.com/nanodegrees/nd013/parts/fbf77062-5703-404e-b60c-95b78b2f3f9e/modules/6df7ae49-c61c-4bb2-a23e-6527e69209ec/lessons/601ae704-1035-4287-8b11-e2c2716217ad/concepts/d4aca031-508f-4e0b-b493-e7b706120f81) at the end of the CNN lesson is a solid starting point. You'll have to change the number of classes and possibly the preprocessing, but aside from that it's plug and play! \n",
    "\n",
    "With the LeNet-5 solution from the lecture, you should expect a validation set accuracy of about 0.89. To meet specifications, the validation set accuracy will need to be at least 0.93. It is possible to get an even higher accuracy, but 0.93 is the minimum for a successful project submission. \n",
    "\n",
    "There are various aspects to consider when thinking about this problem:\n",
    "\n",
    "- Neural network architecture (is the network over or underfitting?)\n",
    "- Play around preprocessing techniques (normalization, rgb to grayscale, etc)\n",
    "- Number of examples per label (some have more than others).\n",
    "- Generate fake data.\n",
    "\n",
    "Here is an example of a [published baseline model on this problem](http://yann.lecun.com/exdb/publis/pdf/sermanet-ijcnn-11.pdf). It's not required to be familiar with the approach used in the paper but, it's good practice to try to read papers like these."
   ]
  },
  {
   "cell_type": "markdown",
   "metadata": {},
   "source": [
    "# pre-processing and augmentation\n",
    "\n",
    "1. use image flip to extend the data from 130286 to 353362 \n",
    "2. use OpenCV to equalize the histogram of the Y channel\n",
    "3. used OpenCV to normalize the image\n",
    "4. shuffle training data\n"
   ]
  },
  {
   "cell_type": "code",
   "execution_count": 4,
   "metadata": {},
   "outputs": [
    {
     "name": "stdout",
     "output_type": "stream",
     "text": [
      "before len of X_tran: 34799   len of y_train: 34799\n",
      "after len of X_tran: 34799   len of y_train: 34799\n",
      "33616\n"
     ]
    },
    {
     "data": {
      "image/png": "[encoded data removed]",
      "text/plain": [
       "<matplotlib.figure.Figure at 0x7fd8443b5eb8>"
      ]
     },
     "metadata": {},
     "output_type": "display_data"
    },
    {
     "data": {
      "image/png": "[encoded data removed]",
      "text/plain": [
       "<matplotlib.figure.Figure at 0x7fd83249be48>"
      ]
     },
     "metadata": {},
     "output_type": "display_data"
    },
    {
     "name": "stdout",
     "output_type": "stream",
     "text": [
      "16196\n"
     ]
    },
    {
     "data": {
      "image/png": "[encoded data removed]",
      "text/plain": [
       "<matplotlib.figure.Figure at 0x7fd8323b7c18>"
      ]
     },
     "metadata": {},
     "output_type": "display_data"
    },
    {
     "data": {
      "image/png": "[encoded data removed]",
      "text/plain": [
       "<matplotlib.figure.Figure at 0x7fd83236ab00>"
      ]
     },
     "metadata": {},
     "output_type": "display_data"
    },
    {
     "name": "stdout",
     "output_type": "stream",
     "text": [
      "14990\n"
     ]
    },
    {
     "data": {
      "image/png": "[encoded data removed]",
      "text/plain": [
       "<matplotlib.figure.Figure at 0x7fd832260e10>"
      ]
     },
     "metadata": {},
     "output_type": "display_data"
    },
    {
     "data": {
      "image/png": "[encoded data removed]",
      "text/plain": [
       "<matplotlib.figure.Figure at 0x7fd8322cdf28>"
      ]
     },
     "metadata": {},
     "output_type": "display_data"
    },
    {
     "name": "stdout",
     "output_type": "stream",
     "text": [
      "15818\n"
     ]
    },
    {
     "data": {
      "image/png": "[encoded data removed]",
      "text/plain": [
       "<matplotlib.figure.Figure at 0x7fd8323a3438>"
      ]
     },
     "metadata": {},
     "output_type": "display_data"
    },
    {
     "data": {
      "image/png": "[encoded data removed]",
      "text/plain": [
       "<matplotlib.figure.Figure at 0x7fd8323a3160>"
      ]
     },
     "metadata": {},
     "output_type": "display_data"
    },
    {
     "name": "stdout",
     "output_type": "stream",
     "text": [
      "28872\n"
     ]
    },
    {
     "data": {
      "image/png": "[encoded data removed]",
      "text/plain": [
       "<matplotlib.figure.Figure at 0x7fd832492160>"
      ]
     },
     "metadata": {},
     "output_type": "display_data"
    },
    {
     "data": {
      "image/png": "[encoded data removed]",
      "text/plain": [
       "<matplotlib.figure.Figure at 0x7fd83242de48>"
      ]
     },
     "metadata": {},
     "output_type": "display_data"
    }
   ],
   "source": [
    "def image_flip(X, y):\n",
    "    self_flippable_horizontally = np.array([11, 12, 13, 15, 17, 18, 22, 26, 30, 35])\n",
    "    self_flippable_vertically = np.array([1, 5, 12, 15, 17])\n",
    "    self_flippable_both = np.array([32, 40])\n",
    "    cross_flippable = np.array([\n",
    "        [19, 20], \n",
    "        [33, 34], \n",
    "        [36, 37], \n",
    "        [38, 39],\n",
    "        [34, 33], \n",
    "        [39, 38],\n",
    "        [37, 36],\n",
    "        [20, 19]\n",
    "    ])\n",
    "    num_classes = 43\n",
    "    \n",
    "    X_extended = np.empty([0, X.shape[1], X.shape[2], X.shape[3]], dtype = X.dtype)\n",
    "    y_extended = np.empty([0], dtype = y.dtype)\n",
    "    \n",
    "    for c in range(num_classes):\n",
    "        X_extended = np.append(X_extended, X[y == c], axis = 0)\n",
    "        if c in self_flippable_horizontally:\n",
    "            X_extended = np.append(X_extended, X[y == c][:, :, ::-1, :], axis = 0)\n",
    "        if c in cross_flippable[:, 0]:\n",
    "            flip_class = cross_flippable[cross_flippable[:, 0] == c][0][1]\n",
    "            X_extended = np.append(X_extended, X[y == flip_class][:, :, ::-1, :], axis = 0)\n",
    "        y_extended = np.append(y_extended, np.full((X_extended.shape[0] - y_extended.shape[0]), c, dtype = int))\n",
    "        \n",
    "        if c in self_flippable_vertically:\n",
    "            X_extended = np.append(X_extended, X_extended[y_extended == c][:, ::-1, :, :], axis = 0)\n",
    "        y_extended = np.append(y_extended, np.full((X_extended.shape[0] - y_extended.shape[0]), c, dtype = int))\n",
    "        \n",
    "        if c in self_flippable_both:\n",
    "            X_extended = np.append(X_extended, X_extended[y_extended == c][:, ::-1, ::-1, :], axis = 0)\n",
    "        y_extended = np.append(y_extended, np.full((X_extended.shape[0] - y_extended.shape[0]), c, dtype = int))\n",
    "    \n",
    "    return (X_extended, y_extended)\n",
    "\n",
    "print(\"before len of X_tran:\",len(X_train_raw),\"  len of y_train:\",len(y_train_raw))\n",
    "#X_train_raw , y_train_raw = image_flip(X_train_raw , y_train_raw)\n",
    "print(\"after len of X_tran:\",len(X_train_raw),\"  len of y_train:\",len(y_train_raw))\n",
    "### Preprocess the data here. It is required to normalize the data. Other preprocessing steps could include \n",
    "### converting to grayscale, etc.\n",
    "### Feel free to use as many code cells as needed.\n",
    "from sklearn.utils import shuffle\n",
    "from sklearn.preprocessing import Normalizer\n",
    "#n = Normalizer()    \n",
    "import cv2\n",
    "X_train = []\n",
    "y_train = []\n",
    "for image in X_train_raw:\n",
    "    # 1. do histogram equal\n",
    "    img_yuv = cv2.cvtColor(image, cv2.COLOR_BGR2YUV)\n",
    "    # equalize the histogram of the Y channel\n",
    "    img_yuv[:,:,0] = cv2.equalizeHist(img_yuv[:,:,0])\n",
    "    # convert the YUV image back to RGB format\n",
    "    hist_image = cv2.cvtColor(img_yuv, cv2.COLOR_YUV2BGR)\n",
    "    # 2. normalization\n",
    "    zeros = np.zeros((32,32,3))\n",
    "    norm_image = cv2.normalize(hist_image, zeros, alpha=0, beta=1, norm_type=cv2.NORM_MINMAX, dtype=cv2.CV_32F)\n",
    "    \n",
    "    X_train.append(norm_image)\n",
    "    #plt.figure(figsize=(1,1))\n",
    "    #plt.imshow(image)\n",
    "for label in y_train_raw:\n",
    "    #image = cv2.cvtColor(image, cv2.COLOR_BGR2GRAY)\n",
    "    y_train.append(label)\n",
    "\n",
    "  \n",
    "plt.figure(figsize=(1,1))\n",
    "for x in range(0, 5):\n",
    "    index = random.randint(0, len(X_train))\n",
    "    image = X_train[index].squeeze()\n",
    "    image_raw = X_train_raw[index].squeeze()\n",
    "    print(index)\n",
    "    plt.imshow(image_raw)\n",
    "    plt.show()\n",
    "    plt.imshow(image)\n",
    "    plt.show()\n",
    "#print(y_train[index])\n",
    "X_train, y_train = shuffle(X_train, y_train)\n",
    "#print(\"before len of X_tran:\",len(X_train),\"  len of y_train:\",len(y_train))\n",
    "#X_train , y_train = image_flip(X_train , y_train)\n",
    "#print(\"after len of X_tran:\",len(X_train),\"  len of y_train:\",len(y_train))\n",
    "import tensorflow"
   ]
  },
  {
   "cell_type": "markdown",
   "metadata": {},
   "source": [
    "### Model Architecture\n",
    "we add two dropout layer before two full connected layers with 50% drop rate, so we may not overfit the dataset"
   ]
  },
  {
   "cell_type": "code",
   "execution_count": 6,
   "metadata": {
    "collapsed": true
   },
   "outputs": [],
   "source": [
    "### Define your architecture here.\n",
    "### Feel free to use as many code cells as needed.\n",
    "\n",
    "import tensorflow as tf\n",
    "\n",
    "EPOCHS = 80\n",
    "BATCH_SIZE = 128\n",
    "\n",
    "from tensorflow.contrib.layers import flatten\n",
    "\n",
    "def LeNet(x):    \n",
    "    # Arguments used for tf.truncated_normal, randomly defines variables for the weights and biases for each layer\n",
    "    mu = 0\n",
    "    sigma = 0.1\n",
    "    \n",
    "    # SOLUTION: Layer 1: Convolutional. Input = 32x32x1. Output = 28x28x6. 28 = 32 -5 +1\n",
    "    conv1_W = tf.Variable(tf.truncated_normal(shape=(5, 5, 3, 6), mean = mu, stddev = sigma))\n",
    "    conv1_b = tf.Variable(tf.zeros(6))\n",
    "    conv1   = tf.nn.conv2d(x, conv1_W, strides=[1, 1, 1, 1], padding='VALID') + conv1_b\n",
    "\n",
    "    # SOLUTION: Activation.\n",
    "    conv1 = tf.nn.relu(conv1)\n",
    "    # drop out\n",
    "    #conv1  = tf.nn.dropout(conv1, 0.9)    \n",
    "\n",
    "    # SOLUTION: Pooling. Input = 28x28x6. Output = 14x14x6.\n",
    "    conv1 = tf.nn.max_pool(conv1, ksize=[1, 2, 2, 1], strides=[1, 2, 2, 1], padding='VALID')\n",
    "\n",
    "    # SOLUTION: Layer 2: Convolutional. Output = 10x10x16.\n",
    "    conv2_W = tf.Variable(tf.truncated_normal(shape=(5, 5, 6, 16), mean = mu, stddev = sigma))\n",
    "    conv2_b = tf.Variable(tf.zeros(16))\n",
    "    conv2   = tf.nn.conv2d(conv1, conv2_W, strides=[1, 1, 1, 1], padding='VALID') + conv2_b\n",
    "    \n",
    "    # SOLUTION: Activation.\n",
    "    conv2 = tf.nn.relu(conv2)\n",
    "    # drop out\n",
    "    #conv2  = tf.nn.dropout(conv2, 0.9)\n",
    "\n",
    "    # SOLUTION: Pooling. Input = 10x10x16. Output = 5x5x16.\n",
    "    conv2 = tf.nn.max_pool(conv2, ksize=[1, 2, 2, 1], strides=[1, 2, 2, 1], padding='VALID')\n",
    "\n",
    "    # SOLUTION: Flatten. Input = 5x5x16. Output = 400.\n",
    "    fc0   = flatten(conv2)\n",
    "    \n",
    "    # SOLUTION: Layer 3: Fully Connected. Input = 400. Output = 120.\n",
    "    fc1_W = tf.Variable(tf.truncated_normal(shape=(400, 120), mean = mu, stddev = sigma))\n",
    "    fc1_b = tf.Variable(tf.zeros(120))\n",
    "    fc1   = tf.matmul(fc0, fc1_W) + fc1_b\n",
    "    \n",
    "    # SOLUTION: Activation.\n",
    "    fc1    = tf.nn.relu(fc1)\n",
    "    # drop out\n",
    "    fc1  = tf.nn.dropout(fc1, keep_prob)\n",
    "\n",
    "    # SOLUTION: Layer 4: Fully Connected. Input = 120. Output = 84.\n",
    "    fc2_W  = tf.Variable(tf.truncated_normal(shape=(120, 84), mean = mu, stddev = sigma))\n",
    "    fc2_b  = tf.Variable(tf.zeros(84))\n",
    "    fc2    = tf.matmul(fc1, fc2_W) + fc2_b\n",
    "    \n",
    "    # SOLUTION: Activation.\n",
    "    fc2    = tf.nn.relu(fc2)\n",
    "    # drop out\n",
    "    fc2    = tf.nn.dropout(fc2, keep_prob)\n",
    "\n",
    "    # SOLUTION: Layer 5: Fully Connected. Input = 84. Output = 43.\n",
    "    fc3_W  = tf.Variable(tf.truncated_normal(shape=(84, 43), mean = mu, stddev = sigma))\n",
    "    fc3_b  = tf.Variable(tf.zeros(43))\n",
    "    logits = tf.matmul(fc2, fc3_W) + fc3_b\n",
    "    \n",
    "    return logits\n",
    "x = tf.placeholder(tf.float32, (None, 32, 32, 3))\n",
    "y = tf.placeholder(tf.int32, (None))\n",
    "keep_prob = tf.placeholder(tf.float32)\n",
    "one_hot_y = tf.one_hot(y, 43)\n"
   ]
  },
  {
   "cell_type": "markdown",
   "metadata": {},
   "source": [
    "### Train, Validate and Test the Model"
   ]
  },
  {
   "cell_type": "markdown",
   "metadata": {},
   "source": [
    "A validation set can be used to assess how well the model is performing. A low accuracy on the training and validation\n",
    "sets imply underfitting. A high accuracy on the training set but low accuracy on the validation set implies overfitting.\n",
    "\n",
    "1. 0.91 : histo, normalize, two dropout layers\n",
    "2. "
   ]
  },
  {
   "cell_type": "code",
   "execution_count": 7,
   "metadata": {},
   "outputs": [
    {
     "name": "stdout",
     "output_type": "stream",
     "text": [
      "Training...\n",
      "\n",
      "EPOCH 1 ...\n",
      "Validation Accuracy = 0.524\n",
      "\n",
      "EPOCH 2 ...\n",
      "Validation Accuracy = 0.697\n",
      "\n",
      "EPOCH 3 ...\n",
      "Validation Accuracy = 0.741\n",
      "\n",
      "EPOCH 4 ...\n",
      "Validation Accuracy = 0.788\n",
      "\n",
      "EPOCH 5 ...\n",
      "Validation Accuracy = 0.811\n",
      "\n",
      "EPOCH 6 ...\n",
      "Validation Accuracy = 0.818\n",
      "\n",
      "EPOCH 7 ...\n",
      "Validation Accuracy = 0.854\n",
      "\n",
      "EPOCH 8 ...\n",
      "Validation Accuracy = 0.858\n",
      "\n",
      "EPOCH 9 ...\n",
      "Validation Accuracy = 0.868\n",
      "\n",
      "EPOCH 10 ...\n",
      "Validation Accuracy = 0.866\n",
      "\n",
      "EPOCH 11 ...\n",
      "Validation Accuracy = 0.886\n",
      "\n",
      "EPOCH 12 ...\n",
      "Validation Accuracy = 0.887\n",
      "\n",
      "EPOCH 13 ...\n",
      "Validation Accuracy = 0.886\n",
      "\n",
      "EPOCH 14 ...\n",
      "Validation Accuracy = 0.883\n",
      "\n",
      "EPOCH 15 ...\n",
      "Validation Accuracy = 0.894\n",
      "\n",
      "EPOCH 16 ...\n",
      "Validation Accuracy = 0.906\n",
      "\n",
      "EPOCH 17 ...\n",
      "Validation Accuracy = 0.898\n",
      "\n",
      "EPOCH 18 ...\n",
      "Validation Accuracy = 0.903\n",
      "\n",
      "EPOCH 19 ...\n",
      "Validation Accuracy = 0.908\n",
      "\n",
      "EPOCH 20 ...\n",
      "Validation Accuracy = 0.906\n",
      "\n",
      "EPOCH 21 ...\n",
      "Validation Accuracy = 0.904\n",
      "\n",
      "EPOCH 22 ...\n",
      "Validation Accuracy = 0.911\n",
      "\n",
      "EPOCH 23 ...\n",
      "Validation Accuracy = 0.923\n",
      "\n",
      "EPOCH 24 ...\n",
      "Validation Accuracy = 0.918\n",
      "\n",
      "EPOCH 25 ...\n",
      "Validation Accuracy = 0.907\n",
      "\n",
      "EPOCH 26 ...\n",
      "Validation Accuracy = 0.907\n",
      "\n",
      "EPOCH 27 ...\n",
      "Validation Accuracy = 0.924\n",
      "\n",
      "EPOCH 28 ...\n",
      "Validation Accuracy = 0.917\n",
      "\n",
      "EPOCH 29 ...\n",
      "Validation Accuracy = 0.922\n",
      "\n",
      "EPOCH 30 ...\n",
      "Validation Accuracy = 0.913\n",
      "\n",
      "EPOCH 31 ...\n",
      "Validation Accuracy = 0.917\n",
      "\n",
      "EPOCH 32 ...\n",
      "Validation Accuracy = 0.925\n",
      "\n",
      "EPOCH 33 ...\n",
      "Validation Accuracy = 0.922\n",
      "\n",
      "EPOCH 34 ...\n",
      "Validation Accuracy = 0.915\n",
      "\n",
      "EPOCH 35 ...\n",
      "Validation Accuracy = 0.928\n",
      "\n",
      "EPOCH 36 ...\n",
      "Validation Accuracy = 0.928\n",
      "\n",
      "EPOCH 37 ...\n",
      "Validation Accuracy = 0.927\n",
      "\n",
      "EPOCH 38 ...\n",
      "Validation Accuracy = 0.913\n",
      "\n",
      "EPOCH 39 ...\n",
      "Validation Accuracy = 0.922\n",
      "\n",
      "EPOCH 40 ...\n",
      "Validation Accuracy = 0.917\n",
      "\n",
      "EPOCH 41 ...\n",
      "Validation Accuracy = 0.925\n",
      "\n",
      "EPOCH 42 ...\n",
      "Validation Accuracy = 0.925\n",
      "\n",
      "EPOCH 43 ...\n",
      "Validation Accuracy = 0.932\n",
      "\n",
      "EPOCH 44 ...\n",
      "Validation Accuracy = 0.929\n",
      "\n",
      "EPOCH 45 ...\n",
      "Validation Accuracy = 0.930\n",
      "\n",
      "EPOCH 46 ...\n",
      "Validation Accuracy = 0.927\n",
      "\n",
      "EPOCH 47 ...\n",
      "Validation Accuracy = 0.926\n",
      "\n",
      "EPOCH 48 ...\n",
      "Validation Accuracy = 0.937\n",
      "\n",
      "EPOCH 49 ...\n",
      "Validation Accuracy = 0.918\n",
      "\n",
      "EPOCH 50 ...\n",
      "Validation Accuracy = 0.920\n",
      "\n",
      "EPOCH 51 ...\n",
      "Validation Accuracy = 0.928\n",
      "\n",
      "EPOCH 52 ...\n",
      "Validation Accuracy = 0.919\n",
      "\n",
      "EPOCH 53 ...\n",
      "Validation Accuracy = 0.925\n",
      "\n",
      "EPOCH 54 ...\n",
      "Validation Accuracy = 0.928\n",
      "\n",
      "EPOCH 55 ...\n",
      "Validation Accuracy = 0.927\n",
      "\n",
      "EPOCH 56 ...\n",
      "Validation Accuracy = 0.932\n",
      "\n",
      "EPOCH 57 ...\n",
      "Validation Accuracy = 0.923\n",
      "\n",
      "EPOCH 58 ...\n",
      "Validation Accuracy = 0.929\n",
      "\n",
      "EPOCH 59 ...\n",
      "Validation Accuracy = 0.924\n",
      "\n",
      "EPOCH 60 ...\n",
      "Validation Accuracy = 0.925\n",
      "\n",
      "EPOCH 61 ...\n",
      "Validation Accuracy = 0.934\n",
      "\n",
      "EPOCH 62 ...\n",
      "Validation Accuracy = 0.926\n",
      "\n",
      "EPOCH 63 ...\n",
      "Validation Accuracy = 0.928\n",
      "\n",
      "EPOCH 64 ...\n",
      "Validation Accuracy = 0.937\n",
      "\n",
      "EPOCH 65 ...\n",
      "Validation Accuracy = 0.926\n",
      "\n",
      "EPOCH 66 ...\n",
      "Validation Accuracy = 0.935\n",
      "\n",
      "EPOCH 67 ...\n",
      "Validation Accuracy = 0.929\n",
      "\n",
      "EPOCH 68 ...\n",
      "Validation Accuracy = 0.926\n",
      "\n",
      "EPOCH 69 ...\n",
      "Validation Accuracy = 0.931\n",
      "\n",
      "EPOCH 70 ...\n",
      "Validation Accuracy = 0.931\n",
      "\n",
      "EPOCH 71 ...\n",
      "Validation Accuracy = 0.927\n",
      "\n",
      "EPOCH 72 ...\n",
      "Validation Accuracy = 0.924\n",
      "\n",
      "EPOCH 73 ...\n",
      "Validation Accuracy = 0.926\n",
      "\n",
      "EPOCH 74 ...\n",
      "Validation Accuracy = 0.929\n",
      "\n",
      "EPOCH 75 ...\n",
      "Validation Accuracy = 0.936\n",
      "\n",
      "EPOCH 76 ...\n",
      "Validation Accuracy = 0.923\n",
      "\n",
      "EPOCH 77 ...\n",
      "Validation Accuracy = 0.930\n",
      "\n",
      "EPOCH 78 ...\n",
      "Validation Accuracy = 0.912\n",
      "\n",
      "EPOCH 79 ...\n",
      "Validation Accuracy = 0.927\n",
      "\n",
      "EPOCH 80 ...\n",
      "Validation Accuracy = 0.931\n",
      "\n",
      "Model saved\n",
      "INFO:tensorflow:Restoring parameters from ./lenet\n",
      "Test Accuracy = 0.908\n"
     ]
    }
   ],
   "source": [
    "### Train your model here.\n",
    "### Calculate and report the accuracy on the training and validation set.\n",
    "### Once a final model architecture is selected, \n",
    "### the accuracy on the test set should be calculated and reported as well.\n",
    "### Feel free to use as many code cells as needed.\n",
    "\n",
    "rate = 0.001\n",
    "\n",
    "logits = LeNet(x)\n",
    "cross_entropy = tf.nn.softmax_cross_entropy_with_logits(labels=one_hot_y, logits=logits)\n",
    "loss_operation = tf.reduce_mean(cross_entropy)\n",
    "optimizer = tf.train.AdamOptimizer(learning_rate = rate)\n",
    "training_operation = optimizer.minimize(loss_operation)\n",
    "\n",
    "correct_prediction = tf.equal(tf.argmax(logits, 1), tf.argmax(one_hot_y, 1))\n",
    "accuracy_operation = tf.reduce_mean(tf.cast(correct_prediction, tf.float32))\n",
    "saver = tf.train.Saver()\n",
    "\n",
    "def evaluate(X_data, y_data):\n",
    "    num_examples = len(X_data)\n",
    "    total_accuracy = 0\n",
    "    sess = tf.get_default_session()\n",
    "    for offset in range(0, num_examples, BATCH_SIZE):\n",
    "        batch_x, batch_y = X_data[offset:offset+BATCH_SIZE], y_data[offset:offset+BATCH_SIZE]\n",
    "        accuracy = sess.run(accuracy_operation, feed_dict={x: batch_x, y: batch_y,keep_prob: 1.0})\n",
    "        total_accuracy += (accuracy * len(batch_x))\n",
    "    return total_accuracy / num_examples\n",
    "\n",
    "with tf.Session() as sess:\n",
    "    sess.run(tf.global_variables_initializer())\n",
    "    num_examples = len(X_train)\n",
    "    \n",
    "    print(\"Training...\")\n",
    "    print()\n",
    "    for i in range(EPOCHS):\n",
    "        X_train, y_train = shuffle(X_train, y_train)\n",
    "        for offset in range(0, num_examples, BATCH_SIZE):\n",
    "            end = offset + BATCH_SIZE\n",
    "            batch_x, batch_y = X_train[offset:end], y_train[offset:end]\n",
    "            #print(\"batch_x:\",batch_x)\n",
    "            #print(\"batch_y:\",batch_y)\n",
    "            sess.run(training_operation, feed_dict={x: batch_x, y: batch_y,keep_prob: 0.5})\n",
    "            \n",
    "        validation_accuracy = evaluate(X_valid, y_valid)\n",
    "        print(\"EPOCH {} ...\".format(i+1))\n",
    "        print(\"Validation Accuracy = {:.3f}\".format(validation_accuracy))\n",
    "        print()\n",
    "        \n",
    "    saver.save(sess, './lenet')\n",
    "    print(\"Model saved\")\n",
    "    \n",
    "with tf.Session() as sess:\n",
    "    saver.restore(sess, tf.train.latest_checkpoint('.'))\n",
    "\n",
    "    test_accuracy = evaluate(X_test, y_test)\n",
    "    print(\"Test Accuracy = {:.3f}\".format(test_accuracy))"
   ]
  },
  {
   "cell_type": "markdown",
   "metadata": {},
   "source": [
    "---\n",
    "\n",
    "## Step 3: Test a Model on New Images\n",
    "\n",
    "To give yourself more insight into how your model is working, download at least five pictures of German traffic signs from the web and use your model to predict the traffic sign type.\n",
    "\n",
    "You may find `signnames.csv` useful as it contains mappings from the class id (integer) to the actual sign name."
   ]
  },
  {
   "cell_type": "markdown",
   "metadata": {},
   "source": [
    "### Load and Output the Images"
   ]
  },
  {
   "cell_type": "code",
   "execution_count": 8,
   "metadata": {},
   "outputs": [
    {
     "name": "stdout",
     "output_type": "stream",
     "text": [
      "(32, 32, 3)\n",
      "18\n"
     ]
    },
    {
     "data": {
      "image/png": "[encoded data removed]",
      "text/plain": [
       "<matplotlib.figure.Figure at 0x7fd81d015748>"
      ]
     },
     "metadata": {},
     "output_type": "display_data"
    },
    {
     "data": {
      "image/png": "[encoded data removed]",
      "text/plain": [
       "<matplotlib.figure.Figure at 0x7fd8106d5cf8>"
      ]
     },
     "metadata": {},
     "output_type": "display_data"
    }
   ],
   "source": [
    "### Load the images and plot them here.\n",
    "### Feel free to use as many code cells as needed.\n",
    "\n",
    "import os\n",
    "\n",
    "dir = 'traffic-signs-data/private'\n",
    "local_files = os.listdir(dir)\n",
    "\n",
    "local_labels = [i.partition(\"-\")[0] for i in local_files]\n",
    "files = [dir + '/' + f for f in local_files]\n",
    "local_images = [cv2.imread(f, 3) for f in files]\n",
    "for i in range(len(local_images)):\n",
    "    b,g,r = cv2.split(local_images[i]) \n",
    "    local_images[i] = cv2.merge([r,g,b])\n",
    "\n",
    "print(local_images[0].shape)\n",
    "print(len(local_images))\n",
    "\n",
    "mini_batch_size = 9\n",
    "for start in range(0, len(local_images), mini_batch_size): \n",
    "    end = start+mini_batch_size \n",
    "    end = end if end < len(local_images) else len(local_images)\n",
    "    mini_batch_size = end - start\n",
    "    fig, axes = plt.subplots(1,mini_batch_size)\n",
    "    end = start+mini_batch_size\n",
    "    for i, ((image, ax), label) in enumerate(zip(zip(local_images[start:end], axes), local_labels[start:end])):\n",
    "        ax.set_title(label)\n",
    "        ax.imshow(image.squeeze())\n",
    "\n",
    "    plt.tight_layout()\n",
    "    plt.subplots_adjust(top=0.85)\n",
    "    plt.show()"
   ]
  },
  {
   "cell_type": "markdown",
   "metadata": {},
   "source": [
    "### Predict the Sign Type for Each Image"
   ]
  },
  {
   "cell_type": "code",
   "execution_count": 9,
   "metadata": {},
   "outputs": [
    {
     "name": "stdout",
     "output_type": "stream",
     "text": [
      "INFO:tensorflow:Restoring parameters from ./lenet\n",
      "Test Accuracy = 0.908\n",
      "My Images Accuracy = 0.722\n"
     ]
    },
    {
     "data": {
      "image/png": "[encoded data removed]",
      "text/plain": [
       "<matplotlib.figure.Figure at 0x7fd7b7895160>"
      ]
     },
     "metadata": {},
     "output_type": "display_data"
    },
    {
     "data": {
      "image/png": "[encoded data removed]",
      "text/plain": [
       "<matplotlib.figure.Figure at 0x7fd7b7612a20>"
      ]
     },
     "metadata": {},
     "output_type": "display_data"
    },
    {
     "name": "stdout",
     "output_type": "stream",
     "text": [
      "0 : Label= 3 ,Predicted= 2 = 1.0\n",
      "1 : Label= 37 ,Predicted= 37 = 1.0\n",
      "2 : Label= 7 ,Predicted= 7 = 1.0\n",
      "3 : Label= 19 ,Predicted= 19 = 1.0\n",
      "4 : Label= 9 ,Predicted= 9 = 1.0\n",
      "5 : Label= 12 ,Predicted= 12 = 1.0\n",
      "6 : Label= 18 ,Predicted= 18 = 1.0\n",
      "7 : Label= 25 ,Predicted= 14 = 1.0\n",
      "8 : Label= 13 ,Predicted= 13 = 1.0\n",
      "9 : Label= 32 ,Predicted= 32 = 1.0\n",
      "10 : Label= 0 ,Predicted= 0 = 1.0\n",
      "11 : Label= 40 ,Predicted= 40 = 1.0\n",
      "12 : Label= 36 ,Predicted= 18 = 0.999983\n",
      "13 : Label= 1 ,Predicted= 9 = 1.0\n",
      "14 : Label= 14 ,Predicted= 14 = 1.0\n",
      "15 : Label= 2 ,Predicted= 1 = 1.0\n",
      "16 : Label= 38 ,Predicted= 38 = 1.0\n",
      "17 : Label= 17 ,Predicted= 17 = 1.0\n",
      "Counted 5 bad predictions\n"
     ]
    }
   ],
   "source": [
    "### Calculate the accuracy for these 5 new images. \n",
    "### For example, if the model predicted 1 out of 5 signs correctly, it's 20% accurate on these new images.\n",
    "with tf.Session() as sess:\n",
    "    saver.restore(sess, tf.train.latest_checkpoint('.'))\n",
    "    \n",
    "    test_accuracy = evaluate(X_test, y_test)\n",
    "    print(\"Test Accuracy = {:.3f}\".format(test_accuracy))\n",
    "    private_images_accuracy = evaluate(local_images, local_labels)\n",
    "    print(\"My Images Accuracy = {:.3f}\".format(private_images_accuracy))\n",
    "    \n",
    "    softmax = tf.nn.softmax(logits)\n",
    "    probs = sess.run(softmax, feed_dict={x: local_images, y: local_labels, keep_prob: 1})\n",
    "\n",
    "### Run the predictions here and use the model to output the prediction for each image.\n",
    "### Make sure to pre-process the images with the same pre-processing pipeline used earlier.\n",
    "### Feel free to use as many code cells as needed.\n",
    "\n",
    "mini_batch_size = 9\n",
    "for start in range(0, len(local_images), mini_batch_size): \n",
    "    end = start+mini_batch_size \n",
    "    end = end if end < len(local_images) else len(local_images)\n",
    "    mini_batch_size = end - start\n",
    "    fig, axes = plt.subplots(1,mini_batch_size)\n",
    "    end = start+mini_batch_size\n",
    "    for i, ((image, ax), label) in enumerate(zip(zip(local_images[start:end], axes), local_labels[start:end])):\n",
    "        ax.set_title(label)\n",
    "        ax.imshow(image.squeeze())\n",
    "\n",
    "    plt.tight_layout()\n",
    "    plt.subplots_adjust(top=0.85)\n",
    "    plt.show()\n",
    "\n",
    "count = 0\n",
    "for image_prob in range(len(probs)):\n",
    "    probabilities = probs[image_prob]\n",
    "    for i in range(len(probabilities)):\n",
    "        if probabilities[i] > 0.5:\n",
    "            print(image_prob, ':', 'Label=', local_labels[image_prob], ',Predicted=', i, '=', probabilities[i])\n",
    "            if int(local_labels[image_prob]) != int(i):\n",
    "                count += 1\n",
    "\n",
    "print('Counted', count, 'bad predictions')"
   ]
  },
  {
   "cell_type": "markdown",
   "metadata": {},
   "source": []
  },
  {
   "cell_type": "code",
   "execution_count": 4,
   "metadata": {
    "collapsed": true
   },
   "outputs": [],
   "source": []
  },
  {
   "cell_type": "markdown",
   "metadata": {},
   "source": [
    "### Output Top 5 Softmax Probabilities For Each Image Found on the Web"
   ]
  },
  {
   "cell_type": "markdown",
   "metadata": {},
   "source": [
    "For each of the new images, print out the model's softmax probabilities to show the **certainty** of the model's predictions (limit the output to the top 5 probabilities for each image). [`tf.nn.top_k`](https://www.tensorflow.org/versions/r0.12/api_docs/python/nn.html#top_k) could prove helpful here. \n",
    "\n",
    "The example below demonstrates how tf.nn.top_k can be used to find the top k predictions for each image.\n",
    "\n",
    "`tf.nn.top_k` will return the values and indices (class ids) of the top k predictions. So if k=3, for each sign, it'll return the 3 largest probabilities (out of a possible 43) and the correspoding class ids.\n",
    "\n",
    "Take this numpy array as an example. The values in the array represent predictions. The array contains softmax probabilities for five candidate images with six possible classes. `tk.nn.top_k` is used to choose the three classes with the highest probability:\n",
    "\n",
    "```\n",
    "# (5, 6) array\n",
    "a = np.array([[ 0.24879643,  0.07032244,  0.12641572,  0.34763842,  0.07893497,\n",
    "         0.12789202],\n",
    "       [ 0.28086119,  0.27569815,  0.08594638,  0.0178669 ,  0.18063401,\n",
    "         0.15899337],\n",
    "       [ 0.26076848,  0.23664738,  0.08020603,  0.07001922,  0.1134371 ,\n",
    "         0.23892179],\n",
    "       [ 0.11943333,  0.29198961,  0.02605103,  0.26234032,  0.1351348 ,\n",
    "         0.16505091],\n",
    "       [ 0.09561176,  0.34396535,  0.0643941 ,  0.16240774,  0.24206137,\n",
    "         0.09155967]])\n",
    "```\n",
    "\n",
    "Running it through `sess.run(tf.nn.top_k(tf.constant(a), k=3))` produces:\n",
    "\n",
    "```\n",
    "TopKV2(values=array([[ 0.34763842,  0.24879643,  0.12789202],\n",
    "       [ 0.28086119,  0.27569815,  0.18063401],\n",
    "       [ 0.26076848,  0.23892179,  0.23664738],\n",
    "       [ 0.29198961,  0.26234032,  0.16505091],\n",
    "       [ 0.34396535,  0.24206137,  0.16240774]]), indices=array([[3, 0, 5],\n",
    "       [0, 1, 4],\n",
    "       [0, 5, 1],\n",
    "       [1, 3, 5],\n",
    "       [1, 4, 3]], dtype=int32))\n",
    "```\n",
    "\n",
    "Looking just at the first row we get `[ 0.34763842,  0.24879643,  0.12789202]`, you can confirm these are the 3 largest probabilities in `a`. You'll also notice `[3, 0, 5]` are the corresponding indices."
   ]
  },
  {
   "cell_type": "code",
   "execution_count": 18,
   "metadata": {},
   "outputs": [
    {
     "name": "stdout",
     "output_type": "stream",
     "text": [
      "18\n",
      "i: 0 \n",
      " probs: [ 0.  0.  1.  0.  0.  0.  0.  0.  0.  0.  0.  0.  0.  0.  0.  0.  0.  0.\n",
      "  0.  0.  0.  0.  0.  0.  0.  0.  0.  0.  0.  0.  0.  0.  0.  0.  0.  0.\n",
      "  0.  0.  0.  0.  0.  0.  0.]\n",
      "i: 1 \n",
      " probs: [ 0.  0.  0.  0.  0.  0.  0.  0.  0.  0.  0.  0.  0.  0.  0.  0.  0.  0.\n",
      "  0.  0.  0.  0.  0.  0.  0.  0.  0.  0.  0.  0.  0.  0.  0.  0.  0.  0.\n",
      "  0.  1.  0.  0.  0.  0.  0.]\n",
      "i: 2 \n",
      " probs: [ 0.  0.  0.  0.  0.  0.  0.  1.  0.  0.  0.  0.  0.  0.  0.  0.  0.  0.\n",
      "  0.  0.  0.  0.  0.  0.  0.  0.  0.  0.  0.  0.  0.  0.  0.  0.  0.  0.\n",
      "  0.  0.  0.  0.  0.  0.  0.]\n",
      "i: 3 \n",
      " probs: [ 0.  0.  0.  0.  0.  0.  0.  0.  0.  0.  0.  0.  0.  0.  0.  0.  0.  0.\n",
      "  0.  1.  0.  0.  0.  0.  0.  0.  0.  0.  0.  0.  0.  0.  0.  0.  0.  0.\n",
      "  0.  0.  0.  0.  0.  0.  0.]\n",
      "i: 4 \n",
      " probs: [ 0.  0.  0.  0.  0.  0.  0.  0.  0.  1.  0.  0.  0.  0.  0.  0.  0.  0.\n",
      "  0.  0.  0.  0.  0.  0.  0.  0.  0.  0.  0.  0.  0.  0.  0.  0.  0.  0.\n",
      "  0.  0.  0.  0.  0.  0.  0.]\n",
      "i: 5 \n",
      " probs: [ 0.  0.  0.  0.  0.  0.  0.  0.  0.  0.  0.  0.  1.  0.  0.  0.  0.  0.\n",
      "  0.  0.  0.  0.  0.  0.  0.  0.  0.  0.  0.  0.  0.  0.  0.  0.  0.  0.\n",
      "  0.  0.  0.  0.  0.  0.  0.]\n",
      "i: 6 \n",
      " probs: [ 0.  0.  0.  0.  0.  0.  0.  0.  0.  0.  0.  0.  0.  0.  0.  0.  0.  0.\n",
      "  1.  0.  0.  0.  0.  0.  0.  0.  0.  0.  0.  0.  0.  0.  0.  0.  0.  0.\n",
      "  0.  0.  0.  0.  0.  0.  0.]\n",
      "i: 7 \n",
      " probs: [ 0.  0.  0.  0.  0.  0.  0.  0.  0.  0.  0.  0.  0.  0.  1.  0.  0.  0.\n",
      "  0.  0.  0.  0.  0.  0.  0.  0.  0.  0.  0.  0.  0.  0.  0.  0.  0.  0.\n",
      "  0.  0.  0.  0.  0.  0.  0.]\n",
      "i: 8 \n",
      " probs: [ 0.  0.  0.  0.  0.  0.  0.  0.  0.  0.  0.  0.  0.  1.  0.  0.  0.  0.\n",
      "  0.  0.  0.  0.  0.  0.  0.  0.  0.  0.  0.  0.  0.  0.  0.  0.  0.  0.\n",
      "  0.  0.  0.  0.  0.  0.  0.]\n",
      "i: 9 \n",
      " probs: [ 0.  0.  0.  0.  0.  0.  0.  0.  0.  0.  0.  0.  0.  0.  0.  0.  0.  0.\n",
      "  0.  0.  0.  0.  0.  0.  0.  0.  0.  0.  0.  0.  0.  0.  1.  0.  0.  0.\n",
      "  0.  0.  0.  0.  0.  0.  0.]\n",
      "i: 10 \n",
      " probs: [ 1.  0.  0.  0.  0.  0.  0.  0.  0.  0.  0.  0.  0.  0.  0.  0.  0.  0.\n",
      "  0.  0.  0.  0.  0.  0.  0.  0.  0.  0.  0.  0.  0.  0.  0.  0.  0.  0.\n",
      "  0.  0.  0.  0.  0.  0.  0.]\n",
      "i: 11 \n",
      " probs: [ 0.  0.  0.  0.  0.  0.  0.  0.  0.  0.  0.  0.  0.  0.  0.  0.  0.  0.\n",
      "  0.  0.  0.  0.  0.  0.  0.  0.  0.  0.  0.  0.  0.  0.  0.  0.  0.  0.\n",
      "  0.  0.  0.  0.  1.  0.  0.]\n",
      "i: 12 \n",
      " probs: [  0.00000000e+00   0.00000000e+00   0.00000000e+00   0.00000000e+00\n",
      "   0.00000000e+00   0.00000000e+00   0.00000000e+00   0.00000000e+00\n",
      "   0.00000000e+00   0.00000000e+00   0.00000000e+00   0.00000000e+00\n",
      "   0.00000000e+00   0.00000000e+00   0.00000000e+00   0.00000000e+00\n",
      "   0.00000000e+00   0.00000000e+00   9.99983430e-01   0.00000000e+00\n",
      "   0.00000000e+00   0.00000000e+00   0.00000000e+00   0.00000000e+00\n",
      "   0.00000000e+00   0.00000000e+00   0.00000000e+00   0.00000000e+00\n",
      "   0.00000000e+00   0.00000000e+00   0.00000000e+00   0.00000000e+00\n",
      "   0.00000000e+00   0.00000000e+00   0.00000000e+00   0.00000000e+00\n",
      "   0.00000000e+00   0.00000000e+00   1.65876445e-05   0.00000000e+00\n",
      "   0.00000000e+00   0.00000000e+00   0.00000000e+00]\n",
      "i: 13 \n",
      " probs: [ 0.  0.  0.  0.  0.  0.  0.  0.  0.  1.  0.  0.  0.  0.  0.  0.  0.  0.\n",
      "  0.  0.  0.  0.  0.  0.  0.  0.  0.  0.  0.  0.  0.  0.  0.  0.  0.  0.\n",
      "  0.  0.  0.  0.  0.  0.  0.]\n",
      "i: 14 \n",
      " probs: [ 0.  0.  0.  0.  0.  0.  0.  0.  0.  0.  0.  0.  0.  0.  1.  0.  0.  0.\n",
      "  0.  0.  0.  0.  0.  0.  0.  0.  0.  0.  0.  0.  0.  0.  0.  0.  0.  0.\n",
      "  0.  0.  0.  0.  0.  0.  0.]\n",
      "i: 15 \n",
      " probs: [ 0.  1.  0.  0.  0.  0.  0.  0.  0.  0.  0.  0.  0.  0.  0.  0.  0.  0.\n",
      "  0.  0.  0.  0.  0.  0.  0.  0.  0.  0.  0.  0.  0.  0.  0.  0.  0.  0.\n",
      "  0.  0.  0.  0.  0.  0.  0.]\n",
      "i: 16 \n",
      " probs: [ 0.  0.  0.  0.  0.  0.  0.  0.  0.  0.  0.  0.  0.  0.  0.  0.  0.  0.\n",
      "  0.  0.  0.  0.  0.  0.  0.  0.  0.  0.  0.  0.  0.  0.  0.  0.  0.  0.\n",
      "  0.  0.  1.  0.  0.  0.  0.]\n",
      "i: 17 \n",
      " probs: [ 0.  0.  0.  0.  0.  0.  0.  0.  0.  0.  0.  0.  0.  0.  0.  0.  0.  1.\n",
      "  0.  0.  0.  0.  0.  0.  0.  0.  0.  0.  0.  0.  0.  0.  0.  0.  0.  0.\n",
      "  0.  0.  0.  0.  0.  0.  0.]\n"
     ]
    }
   ],
   "source": [
    "### Print out the top five softmax probabilities for the predictions on the German traffic sign images found on the web. \n",
    "### Feel free to use as many code cells as needed.\n",
    "print(len(probs))\n",
    "for i in range(len(probs)):\n",
    "    print(\"i:\",i,\"\\n probs:\",probs[i])\n",
    " "
   ]
  },
  {
   "cell_type": "markdown",
   "metadata": {},
   "source": [
    "### Project Writeup\n",
    "\n",
    "Once you have completed the code implementation, document your results in a project writeup using this [template](https://github.com/udacity/CarND-Traffic-Sign-Classifier-Project/blob/master/writeup_template.md) as a guide. The writeup can be in a markdown or pdf file. "
   ]
  },
  {
   "cell_type": "markdown",
   "metadata": {},
   "source": [
    "> **Note**: Once you have completed all of the code implementations and successfully answered each question above, you may finalize your work by exporting the iPython Notebook as an HTML document. You can do this by using the menu above and navigating to  \\n\",\n",
    "    \"**File -> Download as -> HTML (.html)**. Include the finished document along with this notebook as your submission."
   ]
  },
  {
   "cell_type": "markdown",
   "metadata": {},
   "source": [
    "---\n",
    "\n",
    "## Step 4 (Optional): Visualize the Neural Network's State with Test Images\n",
    "\n",
    " This Section is not required to complete but acts as an additional excersise for understaning the output of a neural network's weights. While neural networks can be a great learning device they are often referred to as a black box. We can understand what the weights of a neural network look like better by plotting their feature maps. After successfully training your neural network you can see what it's feature maps look like by plotting the output of the network's weight layers in response to a test stimuli image. From these plotted feature maps, it's possible to see what characteristics of an image the network finds interesting. For a sign, maybe the inner network feature maps react with high activation to the sign's boundary outline or to the contrast in the sign's painted symbol.\n",
    "\n",
    " Provided for you below is the function code that allows you to get the visualization output of any tensorflow weight layer you want. The inputs to the function should be a stimuli image, one used during training or a new one you provided, and then the tensorflow variable name that represents the layer's state during the training process, for instance if you wanted to see what the [LeNet lab's](https://classroom.udacity.com/nanodegrees/nd013/parts/fbf77062-5703-404e-b60c-95b78b2f3f9e/modules/6df7ae49-c61c-4bb2-a23e-6527e69209ec/lessons/601ae704-1035-4287-8b11-e2c2716217ad/concepts/d4aca031-508f-4e0b-b493-e7b706120f81) feature maps looked like for it's second convolutional layer you could enter conv2 as the tf_activation variable.\n",
    "\n",
    "For an example of what feature map outputs look like, check out NVIDIA's results in their paper [End-to-End Deep Learning for Self-Driving Cars](https://devblogs.nvidia.com/parallelforall/deep-learning-self-driving-cars/) in the section Visualization of internal CNN State. NVIDIA was able to show that their network's inner weights had high activations to road boundary lines by comparing feature maps from an image with a clear path to one without. Try experimenting with a similar test to show that your trained network's weights are looking for interesting features, whether it's looking at differences in feature maps from images with or without a sign, or even what feature maps look like in a trained network vs a completely untrained one on the same sign image.\n",
    "\n",
    "<figure>\n",
    " <img src=\"visualize_cnn.png\" width=\"380\" alt=\"Combined Image\" />\n",
    " <figcaption>\n",
    " <p></p> \n",
    " <p style=\"text-align: center;\"> Your output should look something like this (above)</p> \n",
    " </figcaption>\n",
    "</figure>\n",
    " <p></p> \n"
   ]
  },
  {
   "cell_type": "code",
   "execution_count": null,
   "metadata": {
    "collapsed": true
   },
   "outputs": [],
   "source": [
    "### Visualize your network's feature maps here.\n",
    "### Feel free to use as many code cells as needed.\n",
    "\n",
    "# image_input: the test image being fed into the network to produce the feature maps\n",
    "# tf_activation: should be a tf variable name used during your training procedure that represents the calculated state of a specific weight layer\n",
    "# activation_min/max: can be used to view the activation contrast in more detail, by default matplot sets min and max to the actual min and max values of the output\n",
    "# plt_num: used to plot out multiple different weight feature map sets on the same block, just extend the plt number for each new feature map entry\n",
    "\n",
    "def outputFeatureMap(image_input, tf_activation, activation_min=-1, activation_max=-1 ,plt_num=1):\n",
    "    # Here make sure to preprocess your image_input in a way your network expects\n",
    "    # with size, normalization, ect if needed\n",
    "    # image_input =\n",
    "    # Note: x should be the same name as your network's tensorflow data placeholder variable\n",
    "    # If you get an error tf_activation is not defined it may be having trouble accessing the variable from inside a function\n",
    "    activation = tf_activation.eval(session=sess,feed_dict={x : image_input})\n",
    "    featuremaps = activation.shape[3]\n",
    "    plt.figure(plt_num, figsize=(15,15))\n",
    "    for featuremap in range(featuremaps):\n",
    "        plt.subplot(6,8, featuremap+1) # sets the number of feature maps to show on each row and column\n",
    "        plt.title('FeatureMap ' + str(featuremap)) # displays the feature map number\n",
    "        if activation_min != -1 & activation_max != -1:\n",
    "            plt.imshow(activation[0,:,:, featuremap], interpolation=\"nearest\", vmin =activation_min, vmax=activation_max, cmap=\"gray\")\n",
    "        elif activation_max != -1:\n",
    "            plt.imshow(activation[0,:,:, featuremap], interpolation=\"nearest\", vmax=activation_max, cmap=\"gray\")\n",
    "        elif activation_min !=-1:\n",
    "            plt.imshow(activation[0,:,:, featuremap], interpolation=\"nearest\", vmin=activation_min, cmap=\"gray\")\n",
    "        else:\n",
    "            plt.imshow(activation[0,:,:, featuremap], interpolation=\"nearest\", cmap=\"gray\")"
   ]
  }
 ],
 "metadata": {
  "anaconda-cloud": {},
  "kernelspec": {
   "display_name": "Python 3",
   "language": "python",
   "name": "python3"
  },
  "language_info": {
   "codemirror_mode": {
    "name": "ipython",
    "version": 3
   },
   "file_extension": ".py",
   "mimetype": "text/x-python",
   "name": "python",
   "nbconvert_exporter": "python",
   "pygments_lexer": "ipython3",
   "version": "3.6.1"
  }
 },
 "nbformat": 4,
 "nbformat_minor": 1
}
